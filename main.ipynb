{
 "cells": [
  {
   "cell_type": "code",
   "execution_count": 43,
   "metadata": {},
   "outputs": [
    {
     "data": {
      "text/plain": [
       "[('2 Introduction to probability [I Probability] P:27', 27),\n",
       " ('3 Common probability distributions [I Probability] P:37', 37),\n",
       " ('4 Fitting probability models [I Probability] P:51', 51),\n",
       " ('5 The normal distribution [I Probability] P:71', 71),\n",
       " ('6 Learning and inference in vision [II Machine learning for machine vision] P:85',\n",
       "  85),\n",
       " ('7 Modeling complex data densities [II Machine learning for machine vision] P:103',\n",
       "  103),\n",
       " ('8 Regression models [II Machine learning for machine vision] P:145', 145),\n",
       " ('9 Classification models [II Machine learning for machine vision] P:173',\n",
       "  173),\n",
       " ('10 Graphical models [III Connecting local models] P:219', 219),\n",
       " ('11 Models for chains and trees [III Connecting local models] P:245', 245),\n",
       " ('12 Models for grids [III Connecting local models] P:281', 281),\n",
       " ('13 Image preprocessing and feature extraction [IV Preprocessing] P:327',\n",
       "  327),\n",
       " ('14 The pinhole camera [V Models for geometry] P:361', 361),\n",
       " ('15 Models for transformations [V Models for geometry] P:391', 391),\n",
       " ('16 Multiple cameras [V Models for geometry] P:425', 425),\n",
       " ('17 Models for shape [VI Models for vision] P:463', 463),\n",
       " ('18 Models for style and identity [VI Models for vision] P:505', 505),\n",
       " ('19 Temporal models [VI Models for vision] P:539', 539),\n",
       " ('20 Models for visual words [VI Models for vision] P:573', 573),\n",
       " ('21 Notation [VII Appendices] P:601', 601)]"
      ]
     },
     "execution_count": 43,
     "metadata": {},
     "output_type": "execute_result"
    }
   ],
   "source": [
    "from PyPDF2 import PdfReader\n",
    "\n",
    "def extract_bookmarks(pdf_path):\n",
    "    reader = PdfReader(pdf_path)\n",
    "    bookmarks = reader.outline\n",
    "\n",
    "    def recurse_bookmarks(bookmarks, depth=0):\n",
    "        global chapter_num\n",
    "        global chapter_list\n",
    "        global cur_part\n",
    "        for bkmk in bookmarks:\n",
    "            if isinstance(bkmk, list) and depth < 2:\n",
    "                recurse_bookmarks(bkmk, depth + 1)\n",
    "            else:\n",
    "                try:\n",
    "                    title = bkmk['/Title']\n",
    "                    page = reader.get_destination_page_number(bkmk)\n",
    "                except KeyError:\n",
    "                    raise ValueError('Bookmark is missing a title or page number')\n",
    "                if depth == 0:\n",
    "                    prefix = \" Part \"\n",
    "                    cur_part = '[' + title + ']'\n",
    "                    # cur_title = prefix + f'{title}, P:{page + 1}'\n",
    "                    # chapter_list.append((cur_title, page + 1))\n",
    "                    # print(cur_part)\n",
    "                elif depth == 1:\n",
    "                    prefix = cur_part\n",
    "                    cur_title = f'{chapter_num} {title} ' + prefix + f' P:{page + 1}'\n",
    "                    chapter_list.append((cur_title, page + 1))\n",
    "                    # print(cur_title)\n",
    "                    chapter_num += 1\n",
    "\n",
    "    recurse_bookmarks(bookmarks)\n",
    "\n",
    "cur_part = '-'\n",
    "chapter_num = 2\n",
    "chapter_list = []\n",
    "\n",
    "pdf_path = 'Computer Vision -  Models, Learning, and Inference_compressed.pdf'\n",
    "extract_bookmarks(pdf_path)\n",
    "\n",
    "chapter_list = chapter_list[:-2]\n",
    "chapter_list"
   ]
  },
  {
   "cell_type": "code",
   "execution_count": 44,
   "metadata": {},
   "outputs": [],
   "source": [
    "from PyPDF2 import PdfReader, PdfWriter\n",
    "\n",
    "def split_pdf_by_chapters(pdf_path, chapters):\n",
    "    reader = PdfReader(pdf_path)\n",
    "\n",
    "    for i in range(len(chapters)):\n",
    "        chapter_title, start_page = chapters[i]\n",
    "        # Determine the end page for this chapter\n",
    "        if i < len(chapters) - 1:\n",
    "            end_page = chapters[i + 1][1] - 1\n",
    "        else:\n",
    "            end_page = len(reader.pages)\n",
    "\n",
    "        writer = PdfWriter()\n",
    "        # Add pages for the current chapter\n",
    "        for page_num in range(start_page - 1, end_page):\n",
    "            writer.add_page(reader.pages[page_num])\n",
    "\n",
    "        # Output the chapter PDF\n",
    "        output_filename = f\"{chapter_title.strip().replace(' ', '_').replace(':', '').replace('[', '').replace(']', '')}.pdf\"\n",
    "        with open(output_filename, \"wb\") as output_pdf:\n",
    "            writer.write(output_pdf)\n",
    "\n",
    "split_pdf_by_chapters(pdf_path, chapter_list)\n"
   ]
  },
  {
   "cell_type": "code",
   "execution_count": null,
   "metadata": {},
   "outputs": [],
   "source": []
  }
 ],
 "metadata": {
  "kernelspec": {
   "display_name": "base",
   "language": "python",
   "name": "python3"
  },
  "language_info": {
   "codemirror_mode": {
    "name": "ipython",
    "version": 3
   },
   "file_extension": ".py",
   "mimetype": "text/x-python",
   "name": "python",
   "nbconvert_exporter": "python",
   "pygments_lexer": "ipython3",
   "version": "3.10.14"
  }
 },
 "nbformat": 4,
 "nbformat_minor": 2
}
